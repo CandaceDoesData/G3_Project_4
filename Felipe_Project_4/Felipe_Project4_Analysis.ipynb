{
 "cells": [
  {
   "cell_type": "code",
   "execution_count": 8,
   "id": "dfde3c95",
   "metadata": {},
   "outputs": [
    {
     "data": {
      "text/html": [
       "<div>\n",
       "<style scoped>\n",
       "    .dataframe tbody tr th:only-of-type {\n",
       "        vertical-align: middle;\n",
       "    }\n",
       "\n",
       "    .dataframe tbody tr th {\n",
       "        vertical-align: top;\n",
       "    }\n",
       "\n",
       "    .dataframe thead th {\n",
       "        text-align: right;\n",
       "    }\n",
       "</style>\n",
       "<table border=\"1\" class=\"dataframe\">\n",
       "  <thead>\n",
       "    <tr style=\"text-align: right;\">\n",
       "      <th></th>\n",
       "      <th>Age</th>\n",
       "      <th>Sex</th>\n",
       "      <th>ChestPainType</th>\n",
       "      <th>RestingBP</th>\n",
       "      <th>Cholesterol</th>\n",
       "      <th>FastingBS</th>\n",
       "      <th>RestingECG</th>\n",
       "      <th>MaxHR</th>\n",
       "      <th>ExerciseAngina</th>\n",
       "      <th>Oldpeak</th>\n",
       "      <th>ST_Slope</th>\n",
       "      <th>HeartDisease</th>\n",
       "    </tr>\n",
       "  </thead>\n",
       "  <tbody>\n",
       "    <tr>\n",
       "      <th>0</th>\n",
       "      <td>40</td>\n",
       "      <td>M</td>\n",
       "      <td>ATA</td>\n",
       "      <td>140</td>\n",
       "      <td>289</td>\n",
       "      <td>0</td>\n",
       "      <td>Normal</td>\n",
       "      <td>172</td>\n",
       "      <td>N</td>\n",
       "      <td>0.0</td>\n",
       "      <td>Up</td>\n",
       "      <td>0</td>\n",
       "    </tr>\n",
       "    <tr>\n",
       "      <th>1</th>\n",
       "      <td>49</td>\n",
       "      <td>F</td>\n",
       "      <td>NAP</td>\n",
       "      <td>160</td>\n",
       "      <td>180</td>\n",
       "      <td>0</td>\n",
       "      <td>Normal</td>\n",
       "      <td>156</td>\n",
       "      <td>N</td>\n",
       "      <td>1.0</td>\n",
       "      <td>Flat</td>\n",
       "      <td>1</td>\n",
       "    </tr>\n",
       "    <tr>\n",
       "      <th>2</th>\n",
       "      <td>37</td>\n",
       "      <td>M</td>\n",
       "      <td>ATA</td>\n",
       "      <td>130</td>\n",
       "      <td>283</td>\n",
       "      <td>0</td>\n",
       "      <td>ST</td>\n",
       "      <td>98</td>\n",
       "      <td>N</td>\n",
       "      <td>0.0</td>\n",
       "      <td>Up</td>\n",
       "      <td>0</td>\n",
       "    </tr>\n",
       "    <tr>\n",
       "      <th>3</th>\n",
       "      <td>48</td>\n",
       "      <td>F</td>\n",
       "      <td>ASY</td>\n",
       "      <td>138</td>\n",
       "      <td>214</td>\n",
       "      <td>0</td>\n",
       "      <td>Normal</td>\n",
       "      <td>108</td>\n",
       "      <td>Y</td>\n",
       "      <td>1.5</td>\n",
       "      <td>Flat</td>\n",
       "      <td>1</td>\n",
       "    </tr>\n",
       "    <tr>\n",
       "      <th>4</th>\n",
       "      <td>54</td>\n",
       "      <td>M</td>\n",
       "      <td>NAP</td>\n",
       "      <td>150</td>\n",
       "      <td>195</td>\n",
       "      <td>0</td>\n",
       "      <td>Normal</td>\n",
       "      <td>122</td>\n",
       "      <td>N</td>\n",
       "      <td>0.0</td>\n",
       "      <td>Up</td>\n",
       "      <td>0</td>\n",
       "    </tr>\n",
       "  </tbody>\n",
       "</table>\n",
       "</div>"
      ],
      "text/plain": [
       "   Age Sex ChestPainType  RestingBP  Cholesterol  FastingBS RestingECG  MaxHR  \\\n",
       "0   40   M           ATA        140          289          0     Normal    172   \n",
       "1   49   F           NAP        160          180          0     Normal    156   \n",
       "2   37   M           ATA        130          283          0         ST     98   \n",
       "3   48   F           ASY        138          214          0     Normal    108   \n",
       "4   54   M           NAP        150          195          0     Normal    122   \n",
       "\n",
       "  ExerciseAngina  Oldpeak ST_Slope  HeartDisease  \n",
       "0              N      0.0       Up             0  \n",
       "1              N      1.0     Flat             1  \n",
       "2              N      0.0       Up             0  \n",
       "3              Y      1.5     Flat             1  \n",
       "4              N      0.0       Up             0  "
      ]
     },
     "execution_count": 8,
     "metadata": {},
     "output_type": "execute_result"
    }
   ],
   "source": [
    "# Import our dependencies\n",
    "from sklearn.model_selection import train_test_split\n",
    "from sklearn.preprocessing import StandardScaler\n",
    "import pandas as pd\n",
    "import tensorflow as tf\n",
    "from pathlib import Path\n",
    "import keras_tuner as kt\n",
    "\n",
    "# Specify the correct path to your heart.csv file\n",
    "csv_file_path = \"/Users/felipepinheiro/Desktop/Project _4/heart.csv\"\n",
    "\n",
    "# Import and read the heart.csv file\n",
    "heart_df = pd.read_csv(csv_file_path)\n",
    "heart_df.head()\n"
   ]
  },
  {
   "cell_type": "code",
   "execution_count": 9,
   "id": "0757689d",
   "metadata": {},
   "outputs": [],
   "source": [
    "# Separate features and target variable\n",
    "X = heart_df.drop(columns=['HeartDisease'])\n",
    "y = heart_df['HeartDisease']\n",
    "\n",
    "# Perform one-hot encoding on categorical variables\n",
    "X_encoded = pd.get_dummies(X, columns=['Sex', 'ChestPainType', 'RestingECG', 'ExerciseAngina', 'ST_Slope'], drop_first=True)\n",
    "\n",
    "# Split the data into training and test sets\n",
    "X_train, X_test, y_train, y_test = train_test_split(X_encoded, y, test_size=0.2, random_state=42)\n",
    "\n",
    "# Normalize the features using StandardScaler\n",
    "scaler = StandardScaler()\n",
    "X_train_scaled = scaler.fit_transform(X_train)\n",
    "X_test_scaled = scaler.transform(X_test)\n"
   ]
  },
  {
   "cell_type": "code",
   "execution_count": 10,
   "id": "c200bf1b",
   "metadata": {},
   "outputs": [],
   "source": [
    "# Define the model using Keras Sequential API\n",
    "model = tf.keras.Sequential([\n",
    "    tf.keras.layers.Input(shape=(X_train_scaled.shape[1],)),\n",
    "    tf.keras.layers.Dense(64, activation='relu'),\n",
    "    tf.keras.layers.Dense(32, activation='relu'),\n",
    "    tf.keras.layers.Dense(1, activation='sigmoid')\n",
    "])\n",
    "\n",
    "# Compile the model\n",
    "model.compile(optimizer='adam', loss='binary_crossentropy', metrics=['accuracy'])\n"
   ]
  },
  {
   "cell_type": "code",
   "execution_count": 11,
   "id": "cbc365b8",
   "metadata": {},
   "outputs": [
    {
     "name": "stdout",
     "output_type": "stream",
     "text": [
      "Epoch 1/50\n",
      "19/19 - 1s - loss: 0.6355 - accuracy: 0.6474 - val_loss: 0.5580 - val_accuracy: 0.7755 - 1s/epoch - 60ms/step\n",
      "Epoch 2/50\n",
      "19/19 - 0s - loss: 0.4630 - accuracy: 0.8484 - val_loss: 0.4495 - val_accuracy: 0.8299 - 74ms/epoch - 4ms/step\n",
      "Epoch 3/50\n",
      "19/19 - 0s - loss: 0.3662 - accuracy: 0.8739 - val_loss: 0.4011 - val_accuracy: 0.8435 - 67ms/epoch - 4ms/step\n",
      "Epoch 4/50\n",
      "19/19 - 0s - loss: 0.3222 - accuracy: 0.8722 - val_loss: 0.3845 - val_accuracy: 0.8435 - 75ms/epoch - 4ms/step\n",
      "Epoch 5/50\n",
      "19/19 - 0s - loss: 0.3000 - accuracy: 0.8790 - val_loss: 0.3799 - val_accuracy: 0.8503 - 63ms/epoch - 3ms/step\n",
      "Epoch 6/50\n",
      "19/19 - 0s - loss: 0.2860 - accuracy: 0.8859 - val_loss: 0.3784 - val_accuracy: 0.8435 - 65ms/epoch - 3ms/step\n",
      "Epoch 7/50\n",
      "19/19 - 0s - loss: 0.2781 - accuracy: 0.8893 - val_loss: 0.3818 - val_accuracy: 0.8503 - 65ms/epoch - 3ms/step\n",
      "Epoch 8/50\n",
      "19/19 - 0s - loss: 0.2689 - accuracy: 0.8893 - val_loss: 0.3753 - val_accuracy: 0.8435 - 67ms/epoch - 4ms/step\n",
      "Epoch 9/50\n",
      "19/19 - 0s - loss: 0.2634 - accuracy: 0.8910 - val_loss: 0.3744 - val_accuracy: 0.8503 - 64ms/epoch - 3ms/step\n",
      "Epoch 10/50\n",
      "19/19 - 0s - loss: 0.2583 - accuracy: 0.8961 - val_loss: 0.3771 - val_accuracy: 0.8435 - 75ms/epoch - 4ms/step\n",
      "Epoch 11/50\n",
      "19/19 - 0s - loss: 0.2540 - accuracy: 0.8944 - val_loss: 0.3825 - val_accuracy: 0.8299 - 63ms/epoch - 3ms/step\n",
      "Epoch 12/50\n",
      "19/19 - 0s - loss: 0.2474 - accuracy: 0.8978 - val_loss: 0.3773 - val_accuracy: 0.8367 - 84ms/epoch - 4ms/step\n",
      "Epoch 13/50\n",
      "19/19 - 0s - loss: 0.2433 - accuracy: 0.8961 - val_loss: 0.3743 - val_accuracy: 0.8299 - 80ms/epoch - 4ms/step\n",
      "Epoch 14/50\n",
      "19/19 - 0s - loss: 0.2409 - accuracy: 0.8961 - val_loss: 0.3791 - val_accuracy: 0.8367 - 79ms/epoch - 4ms/step\n",
      "Epoch 15/50\n",
      "19/19 - 0s - loss: 0.2354 - accuracy: 0.9012 - val_loss: 0.3744 - val_accuracy: 0.8299 - 74ms/epoch - 4ms/step\n",
      "Epoch 16/50\n",
      "19/19 - 0s - loss: 0.2314 - accuracy: 0.9063 - val_loss: 0.3785 - val_accuracy: 0.8435 - 80ms/epoch - 4ms/step\n",
      "Epoch 17/50\n",
      "19/19 - 0s - loss: 0.2296 - accuracy: 0.9063 - val_loss: 0.3817 - val_accuracy: 0.8231 - 76ms/epoch - 4ms/step\n",
      "Epoch 18/50\n",
      "19/19 - 0s - loss: 0.2258 - accuracy: 0.9080 - val_loss: 0.3817 - val_accuracy: 0.8299 - 68ms/epoch - 4ms/step\n",
      "Epoch 19/50\n",
      "19/19 - 0s - loss: 0.2204 - accuracy: 0.9114 - val_loss: 0.3919 - val_accuracy: 0.8231 - 70ms/epoch - 4ms/step\n",
      "Epoch 20/50\n",
      "19/19 - 0s - loss: 0.2183 - accuracy: 0.9114 - val_loss: 0.3854 - val_accuracy: 0.8299 - 61ms/epoch - 3ms/step\n",
      "Epoch 21/50\n",
      "19/19 - 0s - loss: 0.2131 - accuracy: 0.9131 - val_loss: 0.3892 - val_accuracy: 0.8367 - 66ms/epoch - 3ms/step\n",
      "Epoch 22/50\n",
      "19/19 - 0s - loss: 0.2105 - accuracy: 0.9165 - val_loss: 0.3908 - val_accuracy: 0.8367 - 67ms/epoch - 4ms/step\n",
      "Epoch 23/50\n",
      "19/19 - 0s - loss: 0.2072 - accuracy: 0.9182 - val_loss: 0.3965 - val_accuracy: 0.8367 - 66ms/epoch - 3ms/step\n",
      "Epoch 24/50\n",
      "19/19 - 0s - loss: 0.2037 - accuracy: 0.9182 - val_loss: 0.3957 - val_accuracy: 0.8367 - 76ms/epoch - 4ms/step\n",
      "Epoch 25/50\n",
      "19/19 - 0s - loss: 0.2000 - accuracy: 0.9199 - val_loss: 0.4015 - val_accuracy: 0.8367 - 69ms/epoch - 4ms/step\n",
      "Epoch 26/50\n",
      "19/19 - 0s - loss: 0.1980 - accuracy: 0.9250 - val_loss: 0.3976 - val_accuracy: 0.8367 - 79ms/epoch - 4ms/step\n",
      "Epoch 27/50\n",
      "19/19 - 0s - loss: 0.1930 - accuracy: 0.9233 - val_loss: 0.3985 - val_accuracy: 0.8367 - 80ms/epoch - 4ms/step\n",
      "Epoch 28/50\n",
      "19/19 - 0s - loss: 0.1904 - accuracy: 0.9284 - val_loss: 0.4068 - val_accuracy: 0.8367 - 82ms/epoch - 4ms/step\n",
      "Epoch 29/50\n",
      "19/19 - 0s - loss: 0.1879 - accuracy: 0.9353 - val_loss: 0.4123 - val_accuracy: 0.8367 - 72ms/epoch - 4ms/step\n",
      "Epoch 30/50\n",
      "19/19 - 0s - loss: 0.1851 - accuracy: 0.9284 - val_loss: 0.4015 - val_accuracy: 0.8367 - 70ms/epoch - 4ms/step\n",
      "Epoch 31/50\n",
      "19/19 - 0s - loss: 0.1834 - accuracy: 0.9284 - val_loss: 0.4110 - val_accuracy: 0.8367 - 70ms/epoch - 4ms/step\n",
      "Epoch 32/50\n",
      "19/19 - 0s - loss: 0.1791 - accuracy: 0.9336 - val_loss: 0.4119 - val_accuracy: 0.8367 - 74ms/epoch - 4ms/step\n",
      "Epoch 33/50\n",
      "19/19 - 0s - loss: 0.1770 - accuracy: 0.9336 - val_loss: 0.4140 - val_accuracy: 0.8367 - 75ms/epoch - 4ms/step\n",
      "Epoch 34/50\n",
      "19/19 - 0s - loss: 0.1732 - accuracy: 0.9353 - val_loss: 0.4180 - val_accuracy: 0.8367 - 79ms/epoch - 4ms/step\n",
      "Epoch 35/50\n",
      "19/19 - 0s - loss: 0.1702 - accuracy: 0.9353 - val_loss: 0.4225 - val_accuracy: 0.8367 - 80ms/epoch - 4ms/step\n",
      "Epoch 36/50\n",
      "19/19 - 0s - loss: 0.1689 - accuracy: 0.9387 - val_loss: 0.4287 - val_accuracy: 0.8367 - 76ms/epoch - 4ms/step\n",
      "Epoch 37/50\n",
      "19/19 - 0s - loss: 0.1656 - accuracy: 0.9404 - val_loss: 0.4364 - val_accuracy: 0.8367 - 73ms/epoch - 4ms/step\n",
      "Epoch 38/50\n",
      "19/19 - 0s - loss: 0.1625 - accuracy: 0.9370 - val_loss: 0.4314 - val_accuracy: 0.8367 - 72ms/epoch - 4ms/step\n",
      "Epoch 39/50\n",
      "19/19 - 0s - loss: 0.1605 - accuracy: 0.9404 - val_loss: 0.4382 - val_accuracy: 0.8299 - 77ms/epoch - 4ms/step\n",
      "Epoch 40/50\n",
      "19/19 - 0s - loss: 0.1575 - accuracy: 0.9404 - val_loss: 0.4390 - val_accuracy: 0.8367 - 73ms/epoch - 4ms/step\n",
      "Epoch 41/50\n",
      "19/19 - 0s - loss: 0.1560 - accuracy: 0.9438 - val_loss: 0.4433 - val_accuracy: 0.8367 - 75ms/epoch - 4ms/step\n",
      "Epoch 42/50\n",
      "19/19 - 0s - loss: 0.1512 - accuracy: 0.9438 - val_loss: 0.4481 - val_accuracy: 0.8367 - 74ms/epoch - 4ms/step\n",
      "Epoch 43/50\n",
      "19/19 - 0s - loss: 0.1489 - accuracy: 0.9489 - val_loss: 0.4531 - val_accuracy: 0.8367 - 80ms/epoch - 4ms/step\n",
      "Epoch 44/50\n",
      "19/19 - 0s - loss: 0.1462 - accuracy: 0.9472 - val_loss: 0.4644 - val_accuracy: 0.8299 - 73ms/epoch - 4ms/step\n",
      "Epoch 45/50\n",
      "19/19 - 0s - loss: 0.1444 - accuracy: 0.9455 - val_loss: 0.4636 - val_accuracy: 0.8299 - 66ms/epoch - 3ms/step\n",
      "Epoch 46/50\n",
      "19/19 - 0s - loss: 0.1428 - accuracy: 0.9489 - val_loss: 0.4581 - val_accuracy: 0.8367 - 73ms/epoch - 4ms/step\n",
      "Epoch 47/50\n",
      "19/19 - 0s - loss: 0.1405 - accuracy: 0.9506 - val_loss: 0.4714 - val_accuracy: 0.8299 - 70ms/epoch - 4ms/step\n",
      "Epoch 48/50\n",
      "19/19 - 0s - loss: 0.1368 - accuracy: 0.9523 - val_loss: 0.4856 - val_accuracy: 0.8299 - 60ms/epoch - 3ms/step\n",
      "Epoch 49/50\n",
      "19/19 - 0s - loss: 0.1341 - accuracy: 0.9523 - val_loss: 0.4811 - val_accuracy: 0.8299 - 73ms/epoch - 4ms/step\n",
      "Epoch 50/50\n",
      "19/19 - 0s - loss: 0.1334 - accuracy: 0.9557 - val_loss: 0.4882 - val_accuracy: 0.8299 - 80ms/epoch - 4ms/step\n"
     ]
    }
   ],
   "source": [
    "# Train the model\n",
    "history = model.fit(X_train_scaled, y_train, validation_split=0.2, epochs=50, batch_size=32, verbose=2)\n"
   ]
  },
  {
   "cell_type": "code",
   "execution_count": 12,
   "id": "0f9f9383",
   "metadata": {
    "scrolled": true
   },
   "outputs": [
    {
     "name": "stdout",
     "output_type": "stream",
     "text": [
      "Test loss: 0.3738\n",
      "Test accuracy: 0.8696\n"
     ]
    }
   ],
   "source": [
    "# Evaluate the model on the test data\n",
    "loss, accuracy = model.evaluate(X_test_scaled, y_test, verbose=0)\n",
    "print(f'Test loss: {loss:.4f}')\n",
    "print(f'Test accuracy: {accuracy:.4f}')\n"
   ]
  },
  {
   "cell_type": "code",
   "execution_count": 13,
   "id": "7a0cb6d0",
   "metadata": {},
   "outputs": [
    {
     "name": "stdout",
     "output_type": "stream",
     "text": [
      "6/6 [==============================] - 0s 2ms/step\n",
      "Confusion Matrix:\n",
      "[[68  9]\n",
      " [15 92]]\n"
     ]
    }
   ],
   "source": [
    "from sklearn.metrics import confusion_matrix\n",
    "\n",
    "# Predict classes on test data\n",
    "y_pred = model.predict(X_test_scaled)\n",
    "y_pred_classes = (y_pred > 0.5).astype(int)  # Convert probabilities to binary classes\n",
    "\n",
    "# Calculate confusion matrix\n",
    "conf_matrix = confusion_matrix(y_test, y_pred_classes)\n",
    "print(\"Confusion Matrix:\")\n",
    "print(conf_matrix)\n"
   ]
  },
  {
   "cell_type": "code",
   "execution_count": 14,
   "id": "77e068cc",
   "metadata": {},
   "outputs": [
    {
     "name": "stdout",
     "output_type": "stream",
     "text": [
      "Classification Report:\n",
      "              precision    recall  f1-score   support\n",
      "\n",
      "           0       0.82      0.88      0.85        77\n",
      "           1       0.91      0.86      0.88       107\n",
      "\n",
      "    accuracy                           0.87       184\n",
      "   macro avg       0.87      0.87      0.87       184\n",
      "weighted avg       0.87      0.87      0.87       184\n",
      "\n"
     ]
    }
   ],
   "source": [
    "from sklearn.metrics import classification_report\n",
    "\n",
    "class_report = classification_report(y_test, y_pred_classes)\n",
    "print(\"Classification Report:\")\n",
    "print(class_report)\n"
   ]
  },
  {
   "cell_type": "code",
   "execution_count": 15,
   "id": "081714c7",
   "metadata": {},
   "outputs": [
    {
     "data": {
      "image/png": "[encoded data removed]",
      "text/plain": [
       "<Figure size 432x288 with 1 Axes>"
      ]
     },
     "metadata": {
      "needs_background": "light"
     },
     "output_type": "display_data"
    }
   ],
   "source": [
    "from sklearn.metrics import roc_curve, roc_auc_score\n",
    "import matplotlib.pyplot as plt\n",
    "\n",
    "# Calculate ROC curve and AUC\n",
    "fpr, tpr, thresholds = roc_curve(y_test, y_pred)\n",
    "roc_auc = roc_auc_score(y_test, y_pred)\n",
    "\n",
    "# Plot ROC curve\n",
    "plt.figure()\n",
    "plt.plot(fpr, tpr, color='darkorange', lw=2, label=f'AUC = {roc_auc:.2f}')\n",
    "plt.plot([0, 1], [0, 1], color='navy', lw=2, linestyle='--')\n",
    "plt.xlim([0.0, 1.0])\n",
    "plt.ylim([0.0, 1.05])\n",
    "plt.xlabel('False Positive Rate')\n",
    "plt.ylabel('True Positive Rate')\n",
    "plt.title('ROC Curve')\n",
    "plt.legend(loc='lower right')\n",
    "plt.show()\n"
   ]
  },
  {
   "cell_type": "code",
   "execution_count": 17,
   "id": "59018c7b",
   "metadata": {},
   "outputs": [
    {
     "name": "stdout",
     "output_type": "stream",
     "text": [
      "Correlation Coefficient: 0.2673\n"
     ]
    }
   ],
   "source": [
    "import pandas as pd\n",
    "import numpy as np\n",
    "\n",
    "# Load your dataset into a DataFrame (assuming you still have 'heart_df')\n",
    "# Make sure 'FastingBS' and 'HeartDisease' are columns in your DataFrame\n",
    "\n",
    "# Calculate the correlation coefficient\n",
    "correlation_coefficient = heart_df['FastingBS'].corr(heart_df['HeartDisease'])\n",
    "\n",
    "print(f\"Correlation Coefficient: {correlation_coefficient:.4f}\")\n"
   ]
  },
  {
   "cell_type": "code",
   "execution_count": 19,
   "id": "c14c4870",
   "metadata": {},
   "outputs": [
    {
     "data": {
      "image/png": "[encoded data removed]",
      "text/plain": [
       "<Figure size 576x432 with 1 Axes>"
      ]
     },
     "metadata": {
      "needs_background": "light"
     },
     "output_type": "display_data"
    }
   ],
   "source": [
    "import pandas as pd\n",
    "import seaborn as sns\n",
    "import matplotlib.pyplot as plt\n",
    "\n",
    "# Load your dataset into a DataFrame (assuming you still have 'heart_df')\n",
    "# Make sure 'FastingBS' and 'HeartDisease' are columns in your DataFrame\n",
    "\n",
    "# Create a bar plot using seaborn\n",
    "plt.figure(figsize=(8, 6))\n",
    "sns.barplot(x='FastingBS', y='HeartDisease', data=heart_df)\n",
    "plt.title('Correlation between Fasting Blood Sugar and Heart Disease')\n",
    "plt.xlabel('Fasting Blood Sugar')\n",
    "plt.ylabel('Heart Disease')\n",
    "plt.show()\n",
    "\n"
   ]
  },
  {
   "cell_type": "code",
   "execution_count": 22,
   "id": "654f0e1a",
   "metadata": {},
   "outputs": [
    {
     "name": "stdout",
     "output_type": "stream",
     "text": [
      "Correlation Coefficient: -0.4004\n"
     ]
    }
   ],
   "source": [
    "import pandas as pd\n",
    "\n",
    "# Load your dataset into a DataFrame (assuming you still have 'heart_df')\n",
    "# Make sure 'MaxHR' and 'HeartDisease' are columns in your DataFrame\n",
    "\n",
    "# Calculate the correlation coefficient\n",
    "correlation_coefficient = heart_df['MaxHR'].corr(heart_df['HeartDisease'])\n",
    "\n",
    "print(f\"Correlation Coefficient: {correlation_coefficient:.4f}\")\n",
    " "
   ]
  },
  {
   "cell_type": "code",
   "execution_count": 23,
   "id": "6364dceb",
   "metadata": {
    "scrolled": true
   },
   "outputs": [
    {
     "name": "stdout",
     "output_type": "stream",
     "text": [
      "Chi-Squared Value: 10.9315\n",
      "P-value: 0.0042\n"
     ]
    }
   ],
   "source": [
    "import pandas as pd\n",
    "from scipy.stats import chi2_contingency\n",
    "\n",
    "# Load your dataset into a DataFrame (assuming you still have 'heart_df')\n",
    "# Make sure 'RestingECG' and 'HeartDisease' are columns in your DataFrame\n",
    "\n",
    "# Create a contingency table\n",
    "contingency_table = pd.crosstab(heart_df['RestingECG'], heart_df['HeartDisease'])\n",
    "\n",
    "# Perform the chi-squared test\n",
    "chi2, p, dof, expected = chi2_contingency(contingency_table)\n",
    "\n",
    "print(f\"Chi-Squared Value: {chi2:.4f}\")\n",
    "print(f\"P-value: {p:.4f}\")\n"
   ]
  },
  {
   "cell_type": "markdown",
   "id": "bec0140b",
   "metadata": {},
   "source": [
    "Summary of the correlation results you obtained for Fasting Blood Sugar (FastingBS), Resting Electrocardiogram (RestingECG), and Maximum Heart Rate (MaxHR):\n",
    "\n",
    "--Fasting Blood Sugar (FastingBS) and Heart Disease:\n",
    "\n",
    "Correlation Coefficient: 0.2673\n",
    "Interpretation: There is a moderate positive correlation between Fasting Blood Sugar and Heart Disease. Higher levels of fasting blood sugar might be associated with a slightly increased likelihood of having heart disease.\n",
    "\n",
    "--Resting Electrocardiogram (RestingECG) and Heart Disease:\n",
    "\n",
    "Chi-Squared Value: 10.9315\n",
    "P-value: 0.0042\n",
    "Interpretation: There is a statistically significant association between the RestingECG categories and the presence of heart disease. The RestingECG results are not distributed randomly across heart disease outcomes.\n",
    "\n",
    "--Maximum Heart Rate (MaxHR) and Heart Disease:\n",
    "\n",
    "Correlation Coefficient: -0.4004\n",
    "Interpretation: There is a moderate negative correlation between Maximum Heart Rate and Heart Disease. As the maximum heart rate increases, the likelihood of having heart disease slightly decreases.\n"
   ]
  },
  {
   "cell_type": "code",
   "execution_count": 25,
   "id": "8b7fb96d",
   "metadata": {
    "scrolled": false
   },
   "outputs": [
    {
     "data": {
      "image/png": "[encoded data removed]",
      "text/plain": [
       "<Figure size 864x576 with 1 Axes>"
      ]
     },
     "metadata": {},
     "output_type": "display_data"
    }
   ],
   "source": [
    "import pandas as pd\n",
    "import seaborn as sns\n",
    "import matplotlib.pyplot as plt\n",
    "\n",
    "# Load your dataset into a DataFrame (assuming you still have 'heart_df')\n",
    "# Make sure 'FastingBS', 'RestingECG', 'MaxHR', and 'HeartDisease' are columns in your DataFrame\n",
    "\n",
    "# Create a DataFrame with counts for each combination\n",
    "grouped_df = heart_df.groupby(['FastingBS', 'RestingECG', 'MaxHR'])['HeartDisease'].mean().reset_index()\n",
    "\n",
    "# Set the style of seaborn\n",
    "sns.set(style=\"whitegrid\")\n",
    "\n",
    "# Create a grouped bar plot using seaborn\n",
    "plt.figure(figsize=(12, 8))\n",
    "ax = sns.barplot(x='FastingBS', y='HeartDisease', hue='RestingECG', data=grouped_df, ci=None)\n",
    "\n",
    "# Set plot labels and title\n",
    "plt.title('Relation of Fasting Blood Sugar, Resting ECG, and Maximum Heart Rate with Heart Disease')\n",
    "plt.xlabel('Fasting Blood Sugar')\n",
    "plt.ylabel('Heart Disease Proportion')\n",
    "\n",
    "# Customize legend\n",
    "plt.legend(title='Resting ECG', loc='upper right')\n",
    "\n",
    "# Add percentage labels to the bars\n",
    "for p in ax.patches:\n",
    "    height = p.get_height()\n",
    "    ax.annotate(f'{height:.2f}', (p.get_x() + p.get_width() / 2., height), ha='center', va='bottom')\n",
    "\n",
    "# Show the plot\n",
    "plt.show()\n"
   ]
  },
  {
   "cell_type": "markdown",
   "id": "22d6b06c",
   "metadata": {},
   "source": [
    "Imagine we're looking at three things: how much sugar is in your blood after fasting (Fasting Blood Sugar), the pattern of your heart's electrical activity (Resting Electrocardiogram), and the maximum speed at which your heart beats during activity (Maximum Heart Rate). We want to see how these things are related to the chance of having heart disease.\n",
    "\n",
    "-Fasting Blood Sugar (FastingBS):\n",
    "The number we got for this is about 0.2673. If this number is positive, it means that as the amount of sugar in your blood after fasting goes up, the chance of having heart disease might also go up a bit. Not too much, though.\n",
    "\n",
    "-Resting Electrocardiogram (RestingECG):\n",
    "The result we have here is based on a different type of calculation. It tells us that the type of signal your heart gives off when it's resting is not random when it comes to heart disease. In fact, there's a 0.0042 chance that this is just a coincidence. So, this heart signal might give us some useful info about heart disease.\n",
    "\n",
    "-Maximum Heart Rate (MaxHR):\n",
    "This number is around -0.4004. If it's negative, it means that when your heart can beat really fast during activity, the chance of having heart disease might actually be a bit lower. In simpler terms, the more your heart can speed up, the less likely you are to have heart disease."
   ]
  },
  {
   "cell_type": "markdown",
   "id": "bd90f7d1",
   "metadata": {},
   "source": [
    "Today, I'm excited to share a fascinating project focused on predicting heart disease events through data analysis and model development. Our aim is to forecast heart disease occurrences using a combination of clinical features. For the model development, I turned to TensorFlow. As we delved into the data, intriguing correlations emerged—Fasting Blood Sugar (FastingBS) exhibited a positive correlation, while Maximum Heart Rate (MaxHR) showcased a negative one with heart disease. Our model-building journey started with preprocessing steps, such as one-hot encoding and scaling. This led to a neural network architecture, incorporating input, hidden, and output layers, each activated by ReLU and sigmoid functions. Following rigorous training for 50 epochs, the model achieved an impressive 0.8696 accuracy on test data, coupled with a remarkable low loss of 0.3738. The classification reports offered a closer look, providing precision, recall, and F1-scores. The ROC curve confidently demonstrated our model's predictive power, with an impressive AUC of 0.93. By exploring correlation coefficients, we gained insights into the relationships between FastingBS and MaxHR with heart disease. Through a chi-squared test, we uncovered a statistically significant association between Resting Electrocardiogram (RestingECG) and heart disease. Visualizing these findings was made easy with a grouped bar plot, helping us understand the dynamics of FastingBS, RestingECG, MaxHR, and heart disease. To wrap up, our journey concludes on a promising note; the model shines, yet ongoing analysis and domain knowledge continue to be key"
   ]
  },
  {
   "cell_type": "code",
   "execution_count": null,
   "id": "1bf7de15",
   "metadata": {},
   "outputs": [],
   "source": []
  }
 ],
 "metadata": {
  "kernelspec": {
   "display_name": "Python 3",
   "language": "python",
   "name": "python3"
  },
  "language_info": {
   "codemirror_mode": {
    "name": "ipython",
    "version": 3
   },
   "file_extension": ".py",
   "mimetype": "text/x-python",
   "name": "python",
   "nbconvert_exporter": "python",
   "pygments_lexer": "ipython3",
   "version": "3.8.8"
  }
 },
 "nbformat": 4,
 "nbformat_minor": 5
}
