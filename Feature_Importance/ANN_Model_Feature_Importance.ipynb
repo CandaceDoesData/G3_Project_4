{
 "cells": [
  {
   "cell_type": "markdown",
   "metadata": {
    "id": "loFMH0z-FOsS"
   },
   "source": [
    "## Preprocessing"
   ]
  },
  {
   "cell_type": "code",
   "execution_count": 208,
   "metadata": {},
   "outputs": [
    {
     "name": "stdout",
     "output_type": "stream",
     "text": [
      "Requirement already satisfied: pathlib in /opt/homebrew/lib/python3.11/site-packages (1.0.1)\n",
      "\n",
      "\u001b[1m[\u001b[0m\u001b[34;49mnotice\u001b[0m\u001b[1;39;49m]\u001b[0m\u001b[39;49m A new release of pip is available: \u001b[0m\u001b[31;49m23.0.1\u001b[0m\u001b[39;49m -> \u001b[0m\u001b[32;49m23.2.1\u001b[0m\n",
      "\u001b[1m[\u001b[0m\u001b[34;49mnotice\u001b[0m\u001b[1;39;49m]\u001b[0m\u001b[39;49m To update, run: \u001b[0m\u001b[32;49mpython3.11 -m pip install --upgrade pip\u001b[0m\n",
      "Note: you may need to restart the kernel to use updated packages.\n"
     ]
    }
   ],
   "source": [
    "pip install pathlib"
   ]
  },
  {
   "cell_type": "code",
   "execution_count": 209,
   "metadata": {},
   "outputs": [
    {
     "name": "stdout",
     "output_type": "stream",
     "text": [
      "Requirement already satisfied: keras_tuner in /opt/homebrew/lib/python3.11/site-packages (1.3.5)\n",
      "Requirement already satisfied: packaging in /Users/candacestingley/Library/Python/3.11/lib/python/site-packages (from keras_tuner) (23.1)\n",
      "Requirement already satisfied: requests in /opt/homebrew/lib/python3.11/site-packages (from keras_tuner) (2.31.0)\n",
      "Requirement already satisfied: kt-legacy in /opt/homebrew/lib/python3.11/site-packages (from keras_tuner) (1.0.5)\n",
      "Requirement already satisfied: charset-normalizer<4,>=2 in /opt/homebrew/lib/python3.11/site-packages (from requests->keras_tuner) (3.2.0)\n",
      "Requirement already satisfied: idna<4,>=2.5 in /opt/homebrew/lib/python3.11/site-packages (from requests->keras_tuner) (3.4)\n",
      "Requirement already satisfied: urllib3<3,>=1.21.1 in /opt/homebrew/lib/python3.11/site-packages (from requests->keras_tuner) (1.26.16)\n",
      "Requirement already satisfied: certifi>=2017.4.17 in /opt/homebrew/lib/python3.11/site-packages (from requests->keras_tuner) (2023.7.22)\n",
      "\n",
      "\u001b[1m[\u001b[0m\u001b[34;49mnotice\u001b[0m\u001b[1;39;49m]\u001b[0m\u001b[39;49m A new release of pip is available: \u001b[0m\u001b[31;49m23.0.1\u001b[0m\u001b[39;49m -> \u001b[0m\u001b[32;49m23.2.1\u001b[0m\n",
      "\u001b[1m[\u001b[0m\u001b[34;49mnotice\u001b[0m\u001b[1;39;49m]\u001b[0m\u001b[39;49m To update, run: \u001b[0m\u001b[32;49mpython3.11 -m pip install --upgrade pip\u001b[0m\n",
      "Note: you may need to restart the kernel to use updated packages.\n"
     ]
    }
   ],
   "source": [
    "pip install keras_tuner"
   ]
  },
  {
   "cell_type": "code",
   "execution_count": 210,
   "metadata": {
    "colab": {
     "base_uri": "https://localhost:8080/",
     "height": 293
    },
    "id": "TaKlPD9lFOsU",
    "outputId": "096c8885-77f6-4454-e672-8590fa51f989"
   },
   "outputs": [
    {
     "data": {
      "text/html": [
       "<div>\n",
       "<style scoped>\n",
       "    .dataframe tbody tr th:only-of-type {\n",
       "        vertical-align: middle;\n",
       "    }\n",
       "\n",
       "    .dataframe tbody tr th {\n",
       "        vertical-align: top;\n",
       "    }\n",
       "\n",
       "    .dataframe thead th {\n",
       "        text-align: right;\n",
       "    }\n",
       "</style>\n",
       "<table border=\"1\" class=\"dataframe\">\n",
       "  <thead>\n",
       "    <tr style=\"text-align: right;\">\n",
       "      <th></th>\n",
       "      <th>Age</th>\n",
       "      <th>Sex</th>\n",
       "      <th>ChestPainType</th>\n",
       "      <th>RestingBP</th>\n",
       "      <th>Cholesterol</th>\n",
       "      <th>FastingBS</th>\n",
       "      <th>RestingECG</th>\n",
       "      <th>MaxHR</th>\n",
       "      <th>ExerciseAngina</th>\n",
       "      <th>Oldpeak</th>\n",
       "      <th>ST_Slope</th>\n",
       "      <th>HeartDisease</th>\n",
       "    </tr>\n",
       "  </thead>\n",
       "  <tbody>\n",
       "    <tr>\n",
       "      <th>0</th>\n",
       "      <td>40</td>\n",
       "      <td>M</td>\n",
       "      <td>ATA</td>\n",
       "      <td>140</td>\n",
       "      <td>289</td>\n",
       "      <td>0</td>\n",
       "      <td>Normal</td>\n",
       "      <td>172</td>\n",
       "      <td>N</td>\n",
       "      <td>0.0</td>\n",
       "      <td>Up</td>\n",
       "      <td>0</td>\n",
       "    </tr>\n",
       "    <tr>\n",
       "      <th>1</th>\n",
       "      <td>49</td>\n",
       "      <td>F</td>\n",
       "      <td>NAP</td>\n",
       "      <td>160</td>\n",
       "      <td>180</td>\n",
       "      <td>0</td>\n",
       "      <td>Normal</td>\n",
       "      <td>156</td>\n",
       "      <td>N</td>\n",
       "      <td>1.0</td>\n",
       "      <td>Flat</td>\n",
       "      <td>1</td>\n",
       "    </tr>\n",
       "    <tr>\n",
       "      <th>2</th>\n",
       "      <td>37</td>\n",
       "      <td>M</td>\n",
       "      <td>ATA</td>\n",
       "      <td>130</td>\n",
       "      <td>283</td>\n",
       "      <td>0</td>\n",
       "      <td>ST</td>\n",
       "      <td>98</td>\n",
       "      <td>N</td>\n",
       "      <td>0.0</td>\n",
       "      <td>Up</td>\n",
       "      <td>0</td>\n",
       "    </tr>\n",
       "    <tr>\n",
       "      <th>3</th>\n",
       "      <td>48</td>\n",
       "      <td>F</td>\n",
       "      <td>ASY</td>\n",
       "      <td>138</td>\n",
       "      <td>214</td>\n",
       "      <td>0</td>\n",
       "      <td>Normal</td>\n",
       "      <td>108</td>\n",
       "      <td>Y</td>\n",
       "      <td>1.5</td>\n",
       "      <td>Flat</td>\n",
       "      <td>1</td>\n",
       "    </tr>\n",
       "    <tr>\n",
       "      <th>4</th>\n",
       "      <td>54</td>\n",
       "      <td>M</td>\n",
       "      <td>NAP</td>\n",
       "      <td>150</td>\n",
       "      <td>195</td>\n",
       "      <td>0</td>\n",
       "      <td>Normal</td>\n",
       "      <td>122</td>\n",
       "      <td>N</td>\n",
       "      <td>0.0</td>\n",
       "      <td>Up</td>\n",
       "      <td>0</td>\n",
       "    </tr>\n",
       "  </tbody>\n",
       "</table>\n",
       "</div>"
      ],
      "text/plain": [
       "   Age Sex ChestPainType  RestingBP  Cholesterol  FastingBS RestingECG  MaxHR  \\\n",
       "0   40   M           ATA        140          289          0     Normal    172   \n",
       "1   49   F           NAP        160          180          0     Normal    156   \n",
       "2   37   M           ATA        130          283          0         ST     98   \n",
       "3   48   F           ASY        138          214          0     Normal    108   \n",
       "4   54   M           NAP        150          195          0     Normal    122   \n",
       "\n",
       "  ExerciseAngina  Oldpeak ST_Slope  HeartDisease  \n",
       "0              N      0.0       Up             0  \n",
       "1              N      1.0     Flat             1  \n",
       "2              N      0.0       Up             0  \n",
       "3              Y      1.5     Flat             1  \n",
       "4              N      0.0       Up             0  "
      ]
     },
     "execution_count": 210,
     "metadata": {},
     "output_type": "execute_result"
    }
   ],
   "source": [
    "# Import our dependencies\n",
    "from sklearn.model_selection import train_test_split\n",
    "from sklearn.preprocessing import StandardScaler\n",
    "import pandas as pd\n",
    "import tensorflow as tf\n",
    "from pathlib import Path\n",
    "import keras_tuner as kt\n",
    "\n",
    "#  Import and read the charity_data.csv.\n",
    "heart_df = pd.read_csv(Path('./heart.csv'))\n",
    "heart_df.head()"
   ]
  },
  {
   "cell_type": "code",
   "execution_count": 211,
   "metadata": {
    "colab": {
     "base_uri": "https://localhost:8080/"
    },
    "id": "3aMQacUHFOsW",
    "outputId": "0fa40911-f2d4-43b9-f898-da170f81b2b7"
   },
   "outputs": [
    {
     "data": {
      "text/plain": [
       "Age                50\n",
       "Sex                 2\n",
       "ChestPainType       4\n",
       "RestingBP          67\n",
       "Cholesterol       222\n",
       "FastingBS           2\n",
       "RestingECG          3\n",
       "MaxHR             119\n",
       "ExerciseAngina      2\n",
       "Oldpeak            53\n",
       "ST_Slope            3\n",
       "HeartDisease        2\n",
       "dtype: int64"
      ]
     },
     "execution_count": 211,
     "metadata": {},
     "output_type": "execute_result"
    }
   ],
   "source": [
    "# Determine the number of unique values in each column.\n",
    "heart_df.nunique()"
   ]
  },
  {
   "cell_type": "code",
   "execution_count": 212,
   "metadata": {
    "colab": {
     "base_uri": "https://localhost:8080/",
     "height": 273
    },
    "id": "ApfuIdQAFOsa",
    "outputId": "e313d0ae-51d7-4077-c029-762b44aaecd9"
   },
   "outputs": [
    {
     "data": {
      "text/html": [
       "<div>\n",
       "<style scoped>\n",
       "    .dataframe tbody tr th:only-of-type {\n",
       "        vertical-align: middle;\n",
       "    }\n",
       "\n",
       "    .dataframe tbody tr th {\n",
       "        vertical-align: top;\n",
       "    }\n",
       "\n",
       "    .dataframe thead th {\n",
       "        text-align: right;\n",
       "    }\n",
       "</style>\n",
       "<table border=\"1\" class=\"dataframe\">\n",
       "  <thead>\n",
       "    <tr style=\"text-align: right;\">\n",
       "      <th></th>\n",
       "      <th>Age</th>\n",
       "      <th>RestingBP</th>\n",
       "      <th>Cholesterol</th>\n",
       "      <th>FastingBS</th>\n",
       "      <th>MaxHR</th>\n",
       "      <th>Oldpeak</th>\n",
       "      <th>HeartDisease</th>\n",
       "      <th>Sex_F</th>\n",
       "      <th>Sex_M</th>\n",
       "      <th>ChestPainType_ASY</th>\n",
       "      <th>...</th>\n",
       "      <th>ChestPainType_NAP</th>\n",
       "      <th>ChestPainType_TA</th>\n",
       "      <th>RestingECG_LVH</th>\n",
       "      <th>RestingECG_Normal</th>\n",
       "      <th>RestingECG_ST</th>\n",
       "      <th>ExerciseAngina_N</th>\n",
       "      <th>ExerciseAngina_Y</th>\n",
       "      <th>ST_Slope_Down</th>\n",
       "      <th>ST_Slope_Flat</th>\n",
       "      <th>ST_Slope_Up</th>\n",
       "    </tr>\n",
       "  </thead>\n",
       "  <tbody>\n",
       "    <tr>\n",
       "      <th>0</th>\n",
       "      <td>40</td>\n",
       "      <td>140</td>\n",
       "      <td>289</td>\n",
       "      <td>0</td>\n",
       "      <td>172</td>\n",
       "      <td>0.0</td>\n",
       "      <td>0</td>\n",
       "      <td>False</td>\n",
       "      <td>True</td>\n",
       "      <td>False</td>\n",
       "      <td>...</td>\n",
       "      <td>False</td>\n",
       "      <td>False</td>\n",
       "      <td>False</td>\n",
       "      <td>True</td>\n",
       "      <td>False</td>\n",
       "      <td>True</td>\n",
       "      <td>False</td>\n",
       "      <td>False</td>\n",
       "      <td>False</td>\n",
       "      <td>True</td>\n",
       "    </tr>\n",
       "    <tr>\n",
       "      <th>1</th>\n",
       "      <td>49</td>\n",
       "      <td>160</td>\n",
       "      <td>180</td>\n",
       "      <td>0</td>\n",
       "      <td>156</td>\n",
       "      <td>1.0</td>\n",
       "      <td>1</td>\n",
       "      <td>True</td>\n",
       "      <td>False</td>\n",
       "      <td>False</td>\n",
       "      <td>...</td>\n",
       "      <td>True</td>\n",
       "      <td>False</td>\n",
       "      <td>False</td>\n",
       "      <td>True</td>\n",
       "      <td>False</td>\n",
       "      <td>True</td>\n",
       "      <td>False</td>\n",
       "      <td>False</td>\n",
       "      <td>True</td>\n",
       "      <td>False</td>\n",
       "    </tr>\n",
       "    <tr>\n",
       "      <th>2</th>\n",
       "      <td>37</td>\n",
       "      <td>130</td>\n",
       "      <td>283</td>\n",
       "      <td>0</td>\n",
       "      <td>98</td>\n",
       "      <td>0.0</td>\n",
       "      <td>0</td>\n",
       "      <td>False</td>\n",
       "      <td>True</td>\n",
       "      <td>False</td>\n",
       "      <td>...</td>\n",
       "      <td>False</td>\n",
       "      <td>False</td>\n",
       "      <td>False</td>\n",
       "      <td>False</td>\n",
       "      <td>True</td>\n",
       "      <td>True</td>\n",
       "      <td>False</td>\n",
       "      <td>False</td>\n",
       "      <td>False</td>\n",
       "      <td>True</td>\n",
       "    </tr>\n",
       "    <tr>\n",
       "      <th>3</th>\n",
       "      <td>48</td>\n",
       "      <td>138</td>\n",
       "      <td>214</td>\n",
       "      <td>0</td>\n",
       "      <td>108</td>\n",
       "      <td>1.5</td>\n",
       "      <td>1</td>\n",
       "      <td>True</td>\n",
       "      <td>False</td>\n",
       "      <td>True</td>\n",
       "      <td>...</td>\n",
       "      <td>False</td>\n",
       "      <td>False</td>\n",
       "      <td>False</td>\n",
       "      <td>True</td>\n",
       "      <td>False</td>\n",
       "      <td>False</td>\n",
       "      <td>True</td>\n",
       "      <td>False</td>\n",
       "      <td>True</td>\n",
       "      <td>False</td>\n",
       "    </tr>\n",
       "    <tr>\n",
       "      <th>4</th>\n",
       "      <td>54</td>\n",
       "      <td>150</td>\n",
       "      <td>195</td>\n",
       "      <td>0</td>\n",
       "      <td>122</td>\n",
       "      <td>0.0</td>\n",
       "      <td>0</td>\n",
       "      <td>False</td>\n",
       "      <td>True</td>\n",
       "      <td>False</td>\n",
       "      <td>...</td>\n",
       "      <td>True</td>\n",
       "      <td>False</td>\n",
       "      <td>False</td>\n",
       "      <td>True</td>\n",
       "      <td>False</td>\n",
       "      <td>True</td>\n",
       "      <td>False</td>\n",
       "      <td>False</td>\n",
       "      <td>False</td>\n",
       "      <td>True</td>\n",
       "    </tr>\n",
       "  </tbody>\n",
       "</table>\n",
       "<p>5 rows × 21 columns</p>\n",
       "</div>"
      ],
      "text/plain": [
       "   Age  RestingBP  Cholesterol  FastingBS  MaxHR  Oldpeak  HeartDisease  \\\n",
       "0   40        140          289          0    172      0.0             0   \n",
       "1   49        160          180          0    156      1.0             1   \n",
       "2   37        130          283          0     98      0.0             0   \n",
       "3   48        138          214          0    108      1.5             1   \n",
       "4   54        150          195          0    122      0.0             0   \n",
       "\n",
       "   Sex_F  Sex_M  ChestPainType_ASY  ...  ChestPainType_NAP  ChestPainType_TA  \\\n",
       "0  False   True              False  ...              False             False   \n",
       "1   True  False              False  ...               True             False   \n",
       "2  False   True              False  ...              False             False   \n",
       "3   True  False               True  ...              False             False   \n",
       "4  False   True              False  ...               True             False   \n",
       "\n",
       "   RestingECG_LVH  RestingECG_Normal  RestingECG_ST  ExerciseAngina_N  \\\n",
       "0           False               True          False              True   \n",
       "1           False               True          False              True   \n",
       "2           False              False           True              True   \n",
       "3           False               True          False             False   \n",
       "4           False               True          False              True   \n",
       "\n",
       "   ExerciseAngina_Y  ST_Slope_Down  ST_Slope_Flat  ST_Slope_Up  \n",
       "0             False          False          False         True  \n",
       "1             False          False           True        False  \n",
       "2             False          False          False         True  \n",
       "3              True          False           True        False  \n",
       "4             False          False          False         True  \n",
       "\n",
       "[5 rows x 21 columns]"
      ]
     },
     "execution_count": 212,
     "metadata": {},
     "output_type": "execute_result"
    }
   ],
   "source": [
    "# Convert categorical data to numeric with `pd.get_dummies`\n",
    "heart_df = pd.get_dummies(heart_df)\n",
    "heart_df.head()"
   ]
  },
  {
   "cell_type": "code",
   "execution_count": 213,
   "metadata": {
    "id": "KWMJvKmCFOsa"
   },
   "outputs": [],
   "source": [
    "# Split our preprocessed data into our features and target arrays\n",
    "y = heart_df['HeartDisease']\n",
    "X = heart_df.drop(columns=['HeartDisease'])\n",
    "\n",
    "# Split the preprocessed data into a training and testing dataset\n",
    "X_train, X_test, y_train, y_test = train_test_split(X, y, random_state=1)"
   ]
  },
  {
   "cell_type": "code",
   "execution_count": 214,
   "metadata": {
    "id": "b5WBaQnPFOsa"
   },
   "outputs": [],
   "source": [
    "# Create a StandardScaler instances\n",
    "scaler = StandardScaler()\n",
    "\n",
    "# Fit the StandardScaler\n",
    "X_scaler = scaler.fit(X_train)\n",
    "\n",
    "# Scale the data\n",
    "X_train_scaled = X_scaler.transform(X_train)\n",
    "X_test_scaled = X_scaler.transform(X_test)"
   ]
  },
  {
   "cell_type": "markdown",
   "metadata": {
    "id": "plMc67ooFOsa"
   },
   "source": [
    "## Compile, Train and Evaluate the Model"
   ]
  },
  {
   "cell_type": "code",
   "execution_count": 215,
   "metadata": {
    "colab": {
     "base_uri": "https://localhost:8080/"
    },
    "id": "Ptt4eqU3FOsb",
    "outputId": "fb45dda6-bd80-448c-9e2f-0ae84a26ea18"
   },
   "outputs": [
    {
     "name": "stdout",
     "output_type": "stream",
     "text": [
      "Model: \"sequential_1\"\n",
      "_________________________________________________________________\n",
      " Layer (type)                Output Shape              Param #   \n",
      "=================================================================\n",
      " dense_5 (Dense)             (None, 80)                1680      \n",
      "                                                                 \n",
      " dense_6 (Dense)             (None, 30)                2430      \n",
      "                                                                 \n",
      " dense_7 (Dense)             (None, 1)                 31        \n",
      "                                                                 \n",
      "=================================================================\n",
      "Total params: 4141 (16.18 KB)\n",
      "Trainable params: 4141 (16.18 KB)\n",
      "Non-trainable params: 0 (0.00 Byte)\n",
      "_________________________________________________________________\n"
     ]
    }
   ],
   "source": [
    "# Define the model - deep neural net, i.e., the number of input features and hidden nodes for each layer.\n",
    "nn = tf.keras.models.Sequential()\n",
    "\n",
    "# First hidden layer\n",
    "nn.add(tf.keras.layers.Dense(units=80, activation=\"relu\", input_dim=20))\n",
    "\n",
    "# Second hidden layer\n",
    "nn.add(tf.keras.layers.Dense(units=30, activation=\"relu\"))\n",
    "\n",
    "# Output layer\n",
    "nn.add(tf.keras.layers.Dense(units=1, activation=\"sigmoid\"))\n",
    "\n",
    "# Check the structure of the model\n",
    "nn.summary()"
   ]
  },
  {
   "cell_type": "code",
   "execution_count": 216,
   "metadata": {
    "id": "JMYYDmh4FOsb"
   },
   "outputs": [],
   "source": [
    "# Compile the model\n",
    "nn.compile(loss=\"binary_crossentropy\", optimizer=\"adam\", metrics=[\"accuracy\"])"
   ]
  },
  {
   "cell_type": "code",
   "execution_count": 217,
   "metadata": {
    "colab": {
     "base_uri": "https://localhost:8080/"
    },
    "id": "u8ZYoBlNFOsb",
    "outputId": "72d6860e-afd0-4e64-9e41-546be5821fa7"
   },
   "outputs": [
    {
     "name": "stdout",
     "output_type": "stream",
     "text": [
      "Epoch 1/100\n",
      "22/22 [==============================] - 0s 593us/step - loss: 0.5865 - accuracy: 0.7398\n",
      "Epoch 2/100\n",
      "22/22 [==============================] - 0s 426us/step - loss: 0.3983 - accuracy: 0.8619\n",
      "Epoch 3/100\n",
      "22/22 [==============================] - 0s 411us/step - loss: 0.3415 - accuracy: 0.8692\n",
      "Epoch 4/100\n",
      "22/22 [==============================] - 0s 398us/step - loss: 0.3207 - accuracy: 0.8750\n",
      "Epoch 5/100\n",
      "22/22 [==============================] - 0s 395us/step - loss: 0.3105 - accuracy: 0.8808\n",
      "Epoch 6/100\n",
      "22/22 [==============================] - 0s 395us/step - loss: 0.3004 - accuracy: 0.8823\n",
      "Epoch 7/100\n",
      "22/22 [==============================] - 0s 444us/step - loss: 0.2926 - accuracy: 0.8823\n",
      "Epoch 8/100\n",
      "22/22 [==============================] - 0s 402us/step - loss: 0.2843 - accuracy: 0.8939\n",
      "Epoch 9/100\n",
      "22/22 [==============================] - 0s 403us/step - loss: 0.2790 - accuracy: 0.8881\n",
      "Epoch 10/100\n",
      "22/22 [==============================] - 0s 408us/step - loss: 0.2739 - accuracy: 0.8983\n",
      "Epoch 11/100\n",
      "22/22 [==============================] - 0s 393us/step - loss: 0.2681 - accuracy: 0.9070\n",
      "Epoch 12/100\n",
      "22/22 [==============================] - 0s 404us/step - loss: 0.2619 - accuracy: 0.9070\n",
      "Epoch 13/100\n",
      "22/22 [==============================] - 0s 399us/step - loss: 0.2560 - accuracy: 0.9084\n",
      "Epoch 14/100\n",
      "22/22 [==============================] - 0s 394us/step - loss: 0.2519 - accuracy: 0.9128\n",
      "Epoch 15/100\n",
      "22/22 [==============================] - 0s 393us/step - loss: 0.2488 - accuracy: 0.9172\n",
      "Epoch 16/100\n",
      "22/22 [==============================] - 0s 388us/step - loss: 0.2428 - accuracy: 0.9157\n",
      "Epoch 17/100\n",
      "22/22 [==============================] - 0s 400us/step - loss: 0.2413 - accuracy: 0.9157\n",
      "Epoch 18/100\n",
      "22/22 [==============================] - 0s 393us/step - loss: 0.2335 - accuracy: 0.9172\n",
      "Epoch 19/100\n",
      "22/22 [==============================] - 0s 392us/step - loss: 0.2341 - accuracy: 0.9172\n",
      "Epoch 20/100\n",
      "22/22 [==============================] - 0s 401us/step - loss: 0.2274 - accuracy: 0.9201\n",
      "Epoch 21/100\n",
      "22/22 [==============================] - 0s 400us/step - loss: 0.2206 - accuracy: 0.9259\n",
      "Epoch 22/100\n",
      "22/22 [==============================] - 0s 394us/step - loss: 0.2163 - accuracy: 0.9244\n",
      "Epoch 23/100\n",
      "22/22 [==============================] - 0s 389us/step - loss: 0.2125 - accuracy: 0.9288\n",
      "Epoch 24/100\n",
      "22/22 [==============================] - 0s 390us/step - loss: 0.2095 - accuracy: 0.9288\n",
      "Epoch 25/100\n",
      "22/22 [==============================] - 0s 391us/step - loss: 0.2051 - accuracy: 0.9302\n",
      "Epoch 26/100\n",
      "22/22 [==============================] - 0s 407us/step - loss: 0.2016 - accuracy: 0.9317\n",
      "Epoch 27/100\n",
      "22/22 [==============================] - 0s 401us/step - loss: 0.1966 - accuracy: 0.9331\n",
      "Epoch 28/100\n",
      "22/22 [==============================] - 0s 399us/step - loss: 0.1928 - accuracy: 0.9390\n",
      "Epoch 29/100\n",
      "22/22 [==============================] - 0s 408us/step - loss: 0.1890 - accuracy: 0.9317\n",
      "Epoch 30/100\n",
      "22/22 [==============================] - 0s 378us/step - loss: 0.1874 - accuracy: 0.9375\n",
      "Epoch 31/100\n",
      "22/22 [==============================] - 0s 401us/step - loss: 0.1842 - accuracy: 0.9375\n",
      "Epoch 32/100\n",
      "22/22 [==============================] - 0s 395us/step - loss: 0.1789 - accuracy: 0.9404\n",
      "Epoch 33/100\n",
      "22/22 [==============================] - 0s 392us/step - loss: 0.1755 - accuracy: 0.9390\n",
      "Epoch 34/100\n",
      "22/22 [==============================] - 0s 395us/step - loss: 0.1722 - accuracy: 0.9390\n",
      "Epoch 35/100\n",
      "22/22 [==============================] - 0s 394us/step - loss: 0.1690 - accuracy: 0.9433\n",
      "Epoch 36/100\n",
      "22/22 [==============================] - 0s 400us/step - loss: 0.1668 - accuracy: 0.9419\n",
      "Epoch 37/100\n",
      "22/22 [==============================] - 0s 379us/step - loss: 0.1642 - accuracy: 0.9404\n",
      "Epoch 38/100\n",
      "22/22 [==============================] - 0s 410us/step - loss: 0.1598 - accuracy: 0.9448\n",
      "Epoch 39/100\n",
      "22/22 [==============================] - 0s 388us/step - loss: 0.1560 - accuracy: 0.9462\n",
      "Epoch 40/100\n",
      "22/22 [==============================] - 0s 398us/step - loss: 0.1532 - accuracy: 0.9448\n",
      "Epoch 41/100\n",
      "22/22 [==============================] - 0s 400us/step - loss: 0.1533 - accuracy: 0.9448\n",
      "Epoch 42/100\n",
      "22/22 [==============================] - 0s 395us/step - loss: 0.1456 - accuracy: 0.9462\n",
      "Epoch 43/100\n",
      "22/22 [==============================] - 0s 393us/step - loss: 0.1425 - accuracy: 0.9477\n",
      "Epoch 44/100\n",
      "22/22 [==============================] - 0s 395us/step - loss: 0.1398 - accuracy: 0.9491\n",
      "Epoch 45/100\n",
      "22/22 [==============================] - 0s 406us/step - loss: 0.1374 - accuracy: 0.9491\n",
      "Epoch 46/100\n",
      "22/22 [==============================] - 0s 396us/step - loss: 0.1341 - accuracy: 0.9506\n",
      "Epoch 47/100\n",
      "22/22 [==============================] - 0s 394us/step - loss: 0.1308 - accuracy: 0.9535\n",
      "Epoch 48/100\n",
      "22/22 [==============================] - 0s 405us/step - loss: 0.1296 - accuracy: 0.9520\n",
      "Epoch 49/100\n",
      "22/22 [==============================] - 0s 388us/step - loss: 0.1273 - accuracy: 0.9520\n",
      "Epoch 50/100\n",
      "22/22 [==============================] - 0s 410us/step - loss: 0.1223 - accuracy: 0.9637\n",
      "Epoch 51/100\n",
      "22/22 [==============================] - 0s 401us/step - loss: 0.1191 - accuracy: 0.9637\n",
      "Epoch 52/100\n",
      "22/22 [==============================] - 0s 405us/step - loss: 0.1159 - accuracy: 0.9608\n",
      "Epoch 53/100\n",
      "22/22 [==============================] - 0s 392us/step - loss: 0.1139 - accuracy: 0.9622\n",
      "Epoch 54/100\n",
      "22/22 [==============================] - 0s 393us/step - loss: 0.1106 - accuracy: 0.9622\n",
      "Epoch 55/100\n",
      "22/22 [==============================] - 0s 400us/step - loss: 0.1087 - accuracy: 0.9666\n",
      "Epoch 56/100\n",
      "22/22 [==============================] - 0s 391us/step - loss: 0.1074 - accuracy: 0.9666\n",
      "Epoch 57/100\n",
      "22/22 [==============================] - 0s 1ms/step - loss: 0.1038 - accuracy: 0.9695\n",
      "Epoch 58/100\n",
      "22/22 [==============================] - 0s 441us/step - loss: 0.1009 - accuracy: 0.9738\n",
      "Epoch 59/100\n",
      "22/22 [==============================] - 0s 409us/step - loss: 0.0991 - accuracy: 0.9680\n",
      "Epoch 60/100\n",
      "22/22 [==============================] - 0s 397us/step - loss: 0.0965 - accuracy: 0.9753\n",
      "Epoch 61/100\n",
      "22/22 [==============================] - 0s 403us/step - loss: 0.0948 - accuracy: 0.9738\n",
      "Epoch 62/100\n",
      "22/22 [==============================] - 0s 397us/step - loss: 0.0923 - accuracy: 0.9782\n",
      "Epoch 63/100\n",
      "22/22 [==============================] - 0s 409us/step - loss: 0.0902 - accuracy: 0.9753\n",
      "Epoch 64/100\n",
      "22/22 [==============================] - 0s 395us/step - loss: 0.0894 - accuracy: 0.9724\n",
      "Epoch 65/100\n",
      "22/22 [==============================] - 0s 412us/step - loss: 0.0845 - accuracy: 0.9811\n",
      "Epoch 66/100\n",
      "22/22 [==============================] - 0s 421us/step - loss: 0.0826 - accuracy: 0.9826\n",
      "Epoch 67/100\n",
      "22/22 [==============================] - 0s 440us/step - loss: 0.0844 - accuracy: 0.9753\n",
      "Epoch 68/100\n",
      "22/22 [==============================] - 0s 419us/step - loss: 0.0785 - accuracy: 0.9840\n",
      "Epoch 69/100\n",
      "22/22 [==============================] - 0s 403us/step - loss: 0.0766 - accuracy: 0.9811\n",
      "Epoch 70/100\n",
      "22/22 [==============================] - 0s 409us/step - loss: 0.0767 - accuracy: 0.9826\n",
      "Epoch 71/100\n",
      "22/22 [==============================] - 0s 408us/step - loss: 0.0738 - accuracy: 0.9811\n",
      "Epoch 72/100\n",
      "22/22 [==============================] - 0s 399us/step - loss: 0.0715 - accuracy: 0.9840\n",
      "Epoch 73/100\n",
      "22/22 [==============================] - 0s 405us/step - loss: 0.0683 - accuracy: 0.9840\n",
      "Epoch 74/100\n",
      "22/22 [==============================] - 0s 391us/step - loss: 0.0656 - accuracy: 0.9855\n",
      "Epoch 75/100\n",
      "22/22 [==============================] - 0s 400us/step - loss: 0.0661 - accuracy: 0.9840\n",
      "Epoch 76/100\n",
      "22/22 [==============================] - 0s 400us/step - loss: 0.0645 - accuracy: 0.9855\n",
      "Epoch 77/100\n",
      "22/22 [==============================] - 0s 391us/step - loss: 0.0625 - accuracy: 0.9855\n",
      "Epoch 78/100\n",
      "22/22 [==============================] - 0s 393us/step - loss: 0.0593 - accuracy: 0.9884\n",
      "Epoch 79/100\n",
      "22/22 [==============================] - 0s 395us/step - loss: 0.0599 - accuracy: 0.9855\n",
      "Epoch 80/100\n",
      "22/22 [==============================] - 0s 388us/step - loss: 0.0606 - accuracy: 0.9840\n",
      "Epoch 81/100\n",
      "22/22 [==============================] - 0s 391us/step - loss: 0.0566 - accuracy: 0.9884\n",
      "Epoch 82/100\n",
      "22/22 [==============================] - 0s 417us/step - loss: 0.0557 - accuracy: 0.9913\n",
      "Epoch 83/100\n",
      "22/22 [==============================] - 0s 406us/step - loss: 0.0524 - accuracy: 0.9884\n",
      "Epoch 84/100\n",
      "22/22 [==============================] - 0s 401us/step - loss: 0.0506 - accuracy: 0.9913\n",
      "Epoch 85/100\n",
      "22/22 [==============================] - 0s 402us/step - loss: 0.0501 - accuracy: 0.9884\n",
      "Epoch 86/100\n",
      "22/22 [==============================] - 0s 398us/step - loss: 0.0481 - accuracy: 0.9942\n",
      "Epoch 87/100\n",
      "22/22 [==============================] - 0s 400us/step - loss: 0.0477 - accuracy: 0.9898\n",
      "Epoch 88/100\n",
      "22/22 [==============================] - 0s 402us/step - loss: 0.0458 - accuracy: 0.9927\n",
      "Epoch 89/100\n",
      "22/22 [==============================] - 0s 395us/step - loss: 0.0454 - accuracy: 0.9927\n",
      "Epoch 90/100\n",
      "22/22 [==============================] - 0s 396us/step - loss: 0.0429 - accuracy: 0.9942\n",
      "Epoch 91/100\n",
      "22/22 [==============================] - 0s 404us/step - loss: 0.0426 - accuracy: 0.9942\n",
      "Epoch 92/100\n",
      "22/22 [==============================] - 0s 402us/step - loss: 0.0416 - accuracy: 0.9927\n",
      "Epoch 93/100\n",
      "22/22 [==============================] - 0s 399us/step - loss: 0.0401 - accuracy: 0.9927\n",
      "Epoch 94/100\n",
      "22/22 [==============================] - 0s 406us/step - loss: 0.0404 - accuracy: 0.9927\n",
      "Epoch 95/100\n",
      "22/22 [==============================] - 0s 412us/step - loss: 0.0386 - accuracy: 0.9927\n",
      "Epoch 96/100\n",
      "22/22 [==============================] - 0s 402us/step - loss: 0.0385 - accuracy: 0.9927\n",
      "Epoch 97/100\n",
      "22/22 [==============================] - 0s 411us/step - loss: 0.0375 - accuracy: 0.9927\n",
      "Epoch 98/100\n",
      "22/22 [==============================] - 0s 390us/step - loss: 0.0355 - accuracy: 0.9927\n",
      "Epoch 99/100\n",
      "22/22 [==============================] - 0s 404us/step - loss: 0.0340 - accuracy: 0.9942\n",
      "Epoch 100/100\n",
      "22/22 [==============================] - 0s 403us/step - loss: 0.0328 - accuracy: 0.9956\n"
     ]
    }
   ],
   "source": [
    "# Train the model\n",
    "fit_model = nn.fit(X_train_scaled,y_train,epochs=100)"
   ]
  },
  {
   "cell_type": "code",
   "execution_count": 218,
   "metadata": {
    "colab": {
     "base_uri": "https://localhost:8080/"
    },
    "id": "5NNz5fHOFOsb",
    "outputId": "518e57dc-4406-44a9-fa02-3d75982dbdd8"
   },
   "outputs": [
    {
     "name": "stdout",
     "output_type": "stream",
     "text": [
      "8/8 - 0s - loss: 0.7544 - accuracy: 0.8478 - 47ms/epoch - 6ms/step\n",
      "Loss: 0.75443434715271, Accuracy: 0.8478260636329651\n"
     ]
    }
   ],
   "source": [
    "# Evaluate the model using the test data\n",
    "model_loss, model_accuracy = nn.evaluate(X_test_scaled,y_test,verbose=2)\n",
    "print(f\"Loss: {model_loss}, Accuracy: {model_accuracy}\")"
   ]
  },
  {
   "cell_type": "markdown",
   "metadata": {},
   "source": [
    "## Tune the model with keras tuner"
   ]
  },
  {
   "cell_type": "code",
   "execution_count": 219,
   "metadata": {},
   "outputs": [],
   "source": [
    "# Create a method that creates a new Sequential model with hyperparameter options\n",
    "def create_model(hp):\n",
    "    nn_model = tf.keras.models.Sequential()\n",
    "\n",
    "    # Allow kerastuner to decide which activation function to use in hidden layers\n",
    "    activation = hp.Choice('activation',['relu','tanh','sigmoid'])\n",
    "    \n",
    "    # Allow kerastuner to decide number of neurons in first layer\n",
    "    nn_model.add(tf.keras.layers.Dense(units=hp.Int('first_units',\n",
    "        min_value=80,\n",
    "        max_value=100,\n",
    "        step=2), activation=activation, input_dim=20))\n",
    "\n",
    "    # Allow kerastuner to decide number of hidden layers and neurons in hidden layers\n",
    "    for i in range(hp.Int('num_layers', 1, 4)):\n",
    "        nn_model.add(tf.keras.layers.Dense(units=hp.Int('units_' + str(i),\n",
    "            min_value=30,\n",
    "            max_value=60,\n",
    "            step=2),\n",
    "            activation=activation))\n",
    "    \n",
    "    nn_model.add(tf.keras.layers.Dense(units=1, activation=\"sigmoid\"))\n",
    "\n",
    "    # Compile the model\n",
    "    nn_model.compile(loss=\"binary_crossentropy\", optimizer='adam', metrics=[\"accuracy\"])\n",
    "    \n",
    "    return nn_model"
   ]
  },
  {
   "cell_type": "code",
   "execution_count": 220,
   "metadata": {},
   "outputs": [],
   "source": [
    "# Define the tuner\n",
    "tuner = kt.Hyperband(\n",
    "    create_model,\n",
    "    objective=\"val_accuracy\",\n",
    "    max_epochs=50,\n",
    "    hyperband_iterations=2,\n",
    "    overwrite=True)"
   ]
  },
  {
   "cell_type": "code",
   "execution_count": 221,
   "metadata": {},
   "outputs": [
    {
     "name": "stdout",
     "output_type": "stream",
     "text": [
      "Trial 180 Complete [00h 00m 02s]\n",
      "val_accuracy: 0.8913043737411499\n",
      "\n",
      "Best val_accuracy So Far: 0.908695638179779\n",
      "Total elapsed time: 00h 02m 14s\n",
      "INFO:tensorflow:Oracle triggered exit\n"
     ]
    }
   ],
   "source": [
    "# Run the kerastuner search for best hyperparameters\n",
    "tuner.search(X_train_scaled,y_train,epochs=50,validation_data=(X_test_scaled,y_test))"
   ]
  },
  {
   "cell_type": "code",
   "execution_count": 222,
   "metadata": {},
   "outputs": [
    {
     "data": {
      "text/plain": [
       "{'activation': 'relu',\n",
       " 'first_units': 82,\n",
       " 'num_layers': 2,\n",
       " 'units_0': 46,\n",
       " 'units_1': 30,\n",
       " 'units_2': 60,\n",
       " 'units_3': 32,\n",
       " 'tuner/epochs': 17,\n",
       " 'tuner/initial_epoch': 6,\n",
       " 'tuner/bracket': 3,\n",
       " 'tuner/round': 2,\n",
       " 'tuner/trial_id': '0124'}"
      ]
     },
     "execution_count": 222,
     "metadata": {},
     "output_type": "execute_result"
    }
   ],
   "source": [
    "# Get best model hyperparameters\n",
    "best_hyper = tuner.get_best_hyperparameters(1)[0]\n",
    "best_hyper.values"
   ]
  },
  {
   "cell_type": "code",
   "execution_count": 223,
   "metadata": {},
   "outputs": [
    {
     "name": "stdout",
     "output_type": "stream",
     "text": [
      "8/8 - 0s - loss: 0.2805 - accuracy: 0.9087 - 71ms/epoch - 9ms/step\n",
      "Loss: 0.2804891765117645, Accuracy: 0.908695638179779\n"
     ]
    }
   ],
   "source": [
    "# Evaluate best model against full test data\n",
    "best_model = tuner.get_best_models(1)[0]\n",
    "model_loss, model_accuracy = best_model.evaluate(X_test_scaled,y_test,verbose=2)\n",
    "print(f\"Loss: {model_loss}, Accuracy: {model_accuracy}\")"
   ]
  },
  {
   "cell_type": "code",
   "execution_count": 224,
   "metadata": {},
   "outputs": [
    {
     "name": "stdout",
     "output_type": "stream",
     "text": [
      "Model: \"sequential\"\n",
      "_________________________________________________________________\n",
      " Layer (type)                Output Shape              Param #   \n",
      "=================================================================\n",
      " dense (Dense)               (None, 82)                1722      \n",
      "                                                                 \n",
      " dense_1 (Dense)             (None, 46)                3818      \n",
      "                                                                 \n",
      " dense_2 (Dense)             (None, 30)                1410      \n",
      "                                                                 \n",
      " dense_3 (Dense)             (None, 1)                 31        \n",
      "                                                                 \n",
      "=================================================================\n",
      "Total params: 6981 (27.27 KB)\n",
      "Trainable params: 6981 (27.27 KB)\n",
      "Non-trainable params: 0 (0.00 Byte)\n",
      "_________________________________________________________________\n"
     ]
    }
   ],
   "source": [
    "best_model.summary()"
   ]
  },
  {
   "cell_type": "code",
   "execution_count": 225,
   "metadata": {},
   "outputs": [
    {
     "data": {
      "text/plain": [
       "Index(['Age', 'RestingBP', 'Cholesterol', 'FastingBS', 'MaxHR', 'Oldpeak',\n",
       "       'HeartDisease', 'Sex_F', 'Sex_M', 'ChestPainType_ASY',\n",
       "       'ChestPainType_ATA', 'ChestPainType_NAP', 'ChestPainType_TA',\n",
       "       'RestingECG_LVH', 'RestingECG_Normal', 'RestingECG_ST',\n",
       "       'ExerciseAngina_N', 'ExerciseAngina_Y', 'ST_Slope_Down',\n",
       "       'ST_Slope_Flat', 'ST_Slope_Up'],\n",
       "      dtype='object')"
      ]
     },
     "execution_count": 225,
     "metadata": {},
     "output_type": "execute_result"
    }
   ],
   "source": [
    "heart_df.columns"
   ]
  },
  {
   "cell_type": "code",
   "execution_count": 226,
   "metadata": {},
   "outputs": [],
   "source": [
    "# Assuming you've retrieved the weights for a dense layer\n",
    "weights = best_model.layers[0].get_weights()[0] \n"
   ]
  },
  {
   "cell_type": "code",
   "execution_count": 227,
   "metadata": {},
   "outputs": [
    {
     "name": "stdout",
     "output_type": "stream",
     "text": [
      "Weights shape: (20, 82)\n",
      "Weights content: [[-0.17550938 -0.11017811 -0.05703744 ... -0.04026486 -0.10291973\n",
      "  -0.08971095]\n",
      " [-0.13841112 -0.13829151  0.13380629 ...  0.00317601 -0.0024296\n",
      "  -0.00829607]\n",
      " [ 0.25835854  0.21194544 -0.04934194 ...  0.16147181 -0.0185212\n",
      "  -0.14042182]\n",
      " ...\n",
      " [-0.15582582 -0.2084829   0.15456219 ...  0.06655629 -0.1041071\n",
      "  -0.24290471]\n",
      " [-0.09909753 -0.24050552  0.03289168 ... -0.06474309 -0.15953611\n",
      "  -0.25102678]\n",
      " [ 0.13076891 -0.13762179  0.02943754 ... -0.1330921   0.05845324\n",
      "   0.26190054]]\n"
     ]
    }
   ],
   "source": [
    "print(\"Weights shape:\", weights.shape)\n",
    "print(\"Weights content:\", weights)"
   ]
  },
  {
   "cell_type": "code",
   "execution_count": 228,
   "metadata": {},
   "outputs": [],
   "source": [
    "feature_names = heart_df.columns.tolist()"
   ]
  },
  {
   "cell_type": "code",
   "execution_count": 229,
   "metadata": {},
   "outputs": [],
   "source": [
    "# Calculate the absolute sum of weights for each feature\n",
    "feature_importance = abs(weights).sum(axis=1)"
   ]
  },
  {
   "cell_type": "code",
   "execution_count": 230,
   "metadata": {},
   "outputs": [
    {
     "name": "stdout",
     "output_type": "stream",
     "text": [
      "Feature: ST_Slope_Flat, Importance: 11.9891\n",
      "Feature: ChestPainType_ASY, Importance: 11.1053\n",
      "Feature: Oldpeak, Importance: 11.0003\n",
      "Feature: RestingECG_ST, Importance: 10.7936\n",
      "Feature: ChestPainType_NAP, Importance: 10.7604\n",
      "Feature: Sex_F, Importance: 10.7583\n",
      "Feature: Cholesterol, Importance: 10.6004\n",
      "Feature: RestingBP, Importance: 10.5249\n",
      "Feature: RestingECG_LVH, Importance: 10.4997\n",
      "Feature: Age, Importance: 10.3713\n",
      "Feature: HeartDisease, Importance: 10.2474\n",
      "Feature: ExerciseAngina_Y, Importance: 10.1475\n",
      "Feature: FastingBS, Importance: 10.1410\n",
      "Feature: ST_Slope_Down, Importance: 10.0698\n",
      "Feature: Sex_M, Importance: 10.0311\n",
      "Feature: ChestPainType_TA, Importance: 9.9255\n",
      "Feature: ChestPainType_ATA, Importance: 9.6334\n",
      "Feature: RestingECG_Normal, Importance: 9.2156\n",
      "Feature: ExerciseAngina_N, Importance: 8.9990\n",
      "Feature: MaxHR, Importance: 8.7274\n"
     ]
    }
   ],
   "source": [
    "# Pair each feature importance with its corresponding feature name\n",
    "feature_importance = list(zip(feature_names, feature_importance))\n",
    "feature_importance = sorted(feature_importance, key=lambda x: x[1], reverse=True)\n",
    "\n",
    "for feature, importance in feature_importance:\n",
    "    print(f\"Feature: {feature}, Importance: {importance:.4f}\")\n"
   ]
  },
  {
   "cell_type": "code",
   "execution_count": 252,
   "metadata": {},
   "outputs": [],
   "source": [
    "# Visualization\n",
    "features, importance = zip(*feature_importance)\n",
    "\n",
    "# Set Matplotlib parameters for white elements\n",
    "plt.rcParams.update({\n",
    "    \"figure.facecolor\": \"none\",\n",
    "    \"text.color\": \"white\",\n",
    "    \"grid.color\": \"white\",\n",
    "    \"axes.facecolor\": \"none\",\n",
    "    \"axes.labelcolor\": \"white\",\n",
    "    \"xtick.color\": \"white\",\n",
    "    \"ytick.color\": \"white\"\n",
    "})"
   ]
  },
  {
   "cell_type": "code",
   "execution_count": 253,
   "metadata": {},
   "outputs": [
    {
     "data": {
      "image/png": "[encoded data removed]",
      "text/plain": [
       "<Figure size 1000x600 with 1 Axes>"
      ]
     },
     "metadata": {
      "needs_background": "dark"
     },
     "output_type": "display_data"
    }
   ],
   "source": [
    "\n",
    "plt.figure(figsize=(10, 6))\n",
    "plt.barh(features, importance, color='skyblue')\n",
    "plt.xlabel(\"Importance\")\n",
    "plt.ylabel(\"Feature\")\n",
    "plt.title(\"Feature Importance Based on Weights\")\n",
    "plt.xlim(8, 12)\n",
    "plt.show()\n",
    "\n"
   ]
  },
  {
   "cell_type": "code",
   "execution_count": 233,
   "metadata": {},
   "outputs": [],
   "source": [
    "import numpy as np\n",
    "import matplotlib.pyplot as plt"
   ]
  }
 ],
 "metadata": {
  "colab": {
   "provenance": []
  },
  "kernelspec": {
   "display_name": "Python 3",
   "language": "python",
   "name": "python3"
  },
  "language_info": {
   "codemirror_mode": {
    "name": "ipython",
    "version": 3
   },
   "file_extension": ".py",
   "mimetype": "text/x-python",
   "name": "python",
   "nbconvert_exporter": "python",
   "pygments_lexer": "ipython3",
   "version": "3.11.3"
  }
 },
 "nbformat": 4,
 "nbformat_minor": 1
}
